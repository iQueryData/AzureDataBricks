{
 "cells": [
  {
   "cell_type": "code",
   "execution_count": 1,
   "metadata": {},
   "outputs": [
    {
     "name": "stderr",
     "output_type": "stream",
     "text": [
      "25/02/13 16:44:57 WARN Utils: Your hostname, codespaces-56288b resolves to a loopback address: 127.0.0.1; using 10.0.2.202 instead (on interface eth0)\n",
      "25/02/13 16:44:57 WARN Utils: Set SPARK_LOCAL_IP if you need to bind to another address\n",
      "Setting default log level to \"WARN\".\n",
      "To adjust logging level use sc.setLogLevel(newLevel). For SparkR, use setLogLevel(newLevel).\n",
      "25/02/13 16:45:00 WARN NativeCodeLoader: Unable to load native-hadoop library for your platform... using builtin-java classes where applicable\n",
      "                                                                                \r"
     ]
    },
    {
     "name": "stdout",
     "output_type": "stream",
     "text": [
      "+---+-------+----------+\n",
      "| id|   name|   updated|\n",
      "+---+-------+----------+\n",
      "|  1|  shiva|2025-01-10|\n",
      "|  2|sundari|2025-02-10|\n",
      "|  3|   syam|2025-03-10|\n",
      "+---+-------+----------+\n",
      "\n",
      "+---+------+----------+\n",
      "| id|  name|   updated|\n",
      "+---+------+----------+\n",
      "|  1| shivi|2025-02-10|\n",
      "|  2|sundar|2025-01-10|\n",
      "+---+------+----------+\n",
      "\n"
     ]
    }
   ],
   "source": [
    "from pyspark.sql import SparkSession\n",
    "from pyspark.sql.types import StructType, StructField, StringType, IntegerType, ArrayType\n",
    "from pyspark.sql.functions import *\n",
    "\n",
    "spark = SparkSession.builder.appName(\"JoinExamples\").getOrCreate()\n",
    "\n",
    "data = [\n",
    "    (1,'shiva', '2025-01-10'),\n",
    "    (2,'sundari', '2025-02-10'),\n",
    "    (3, 'syam', '2025-03-10')\n",
    "]\n",
    "\n",
    "data2 = [\n",
    "    (1,'shivi', '2025-02-10'),\n",
    "    (2,'sundar','2025-01-10')\n",
    "]\n",
    "\n",
    "df1 = spark.createDataFrame(data,[\"id\", \"name\", \"updated\"])\n",
    "df1.show()\n",
    "\n",
    "df2 = spark.createDataFrame(data2, [\"id\",\"name\", \"updated\"])\n",
    "df2.show()"
   ]
  },
  {
   "cell_type": "code",
   "execution_count": 2,
   "metadata": {},
   "outputs": [
    {
     "name": "stderr",
     "output_type": "stream",
     "text": [
      "25/02/13 16:45:14 WARN GarbageCollectionMetrics: To enable non-built-in garbage collector(s) List(G1 Concurrent GC), users should configure it(them) to spark.eventLog.gcMetrics.youngGenerationGarbageCollectors or spark.eventLog.gcMetrics.oldGenerationGarbageCollectors\n",
      "                                                                                \r"
     ]
    },
    {
     "name": "stdout",
     "output_type": "stream",
     "text": [
      "+---+-------+----------+---+------+----------+\n",
      "| id|   name|   updated| id|  name|   updated|\n",
      "+---+-------+----------+---+------+----------+\n",
      "|  1|  shiva|2025-01-10|  1| shivi|2025-02-10|\n",
      "|  2|sundari|2025-02-10|  2|sundar|2025-01-10|\n",
      "+---+-------+----------+---+------+----------+\n",
      "\n",
      "+---+-------+----------+\n",
      "| id|   name|   updated|\n",
      "+---+-------+----------+\n",
      "|  1|  shiva|2025-01-10|\n",
      "|  2|sundari|2025-02-10|\n",
      "|  3|   syam|2025-03-10|\n",
      "|  1|  shivi|2025-02-10|\n",
      "|  2| sundar|2025-01-10|\n",
      "+---+-------+----------+\n",
      "\n"
     ]
    },
    {
     "name": "stderr",
     "output_type": "stream",
     "text": [
      "                                                                                \r"
     ]
    },
    {
     "name": "stdout",
     "output_type": "stream",
     "text": [
      "+---+-------+----------+\n",
      "| id|   name|   updated|\n",
      "+---+-------+----------+\n",
      "|  1|  shiva|2025-01-10|\n",
      "|  2|sundari|2025-02-10|\n",
      "|  3|   syam|2025-03-10|\n",
      "|  1|  shivi|2025-02-10|\n",
      "|  2| sundar|2025-01-10|\n",
      "+---+-------+----------+\n",
      "\n"
     ]
    },
    {
     "name": "stderr",
     "output_type": "stream",
     "text": [
      "[Stage 25:===========================================>              (3 + 1) / 4]\r"
     ]
    },
    {
     "name": "stdout",
     "output_type": "stream",
     "text": [
      "+---+-------+----------+-----+\n",
      "| id|   name|   updated|count|\n",
      "+---+-------+----------+-----+\n",
      "|  1|  shiva|2025-02-10|    2|\n",
      "|  2|sundari|2025-02-10|    2|\n",
      "|  3|   syam|2025-03-10|    1|\n",
      "+---+-------+----------+-----+\n",
      "\n"
     ]
    },
    {
     "name": "stderr",
     "output_type": "stream",
     "text": [
      "                                                                                \r"
     ]
    }
   ],
   "source": [
    "inner_join = df1.join(df2,df1.id == df2.id, 'inner')\n",
    "inner_join.show()\n",
    "inner_join.count()\n",
    "\n",
    "df3 = df1.union(df2)\n",
    "df3.show()\n",
    "df3.count()\n",
    "\n",
    "# ranking \n",
    "\n",
    "# df4 = window.partitionBy('id')\n",
    "df4 = df3.groupBy('id').agg(\n",
    "    first('name').alias('name'),  # Or max('name'), min('name'), etc. depending on your logic\n",
    "    max('updated').alias('updated'), # Or max, min, etc.\n",
    "    count('*').alias('count') # Count of rows in each group\n",
    ").orderBy('id')\n",
    "\n",
    "df5 = df3.show()\n",
    "df4.show()\n",
    "\n"
   ]
  },
  {
   "cell_type": "code",
   "execution_count": 3,
   "metadata": {},
   "outputs": [
    {
     "name": "stdout",
     "output_type": "stream",
     "text": [
      "+---+-------+----------+----+------+----------+\n",
      "| id|   name|   updated|  id|  name|   updated|\n",
      "+---+-------+----------+----+------+----------+\n",
      "|  1|  shiva|2025-01-10|   1| shivi|2025-02-10|\n",
      "|  3|   syam|2025-03-10|NULL|  NULL|      NULL|\n",
      "|  2|sundari|2025-02-10|   2|sundar|2025-01-10|\n",
      "+---+-------+----------+----+------+----------+\n",
      "\n"
     ]
    },
    {
     "data": {
      "text/plain": [
       "3"
      ]
     },
     "execution_count": 3,
     "metadata": {},
     "output_type": "execute_result"
    }
   ],
   "source": [
    "left_join = df1.join(df2,df1.id == df2.id, 'left')\n",
    "left_join.show()\n",
    "left_join.count()"
   ]
  },
  {
   "cell_type": "code",
   "execution_count": null,
   "metadata": {},
   "outputs": [
    {
     "name": "stdout",
     "output_type": "stream",
     "text": [
      "+---+\n",
      "| id|\n",
      "+---+\n",
      "|  1|\n",
      "|  1|\n",
      "|  1|\n",
      "+---+\n",
      "\n",
      "+---+\n",
      "| id|\n",
      "+---+\n",
      "|  1|\n",
      "|  1|\n",
      "+---+\n",
      "\n",
      "+---+---+\n",
      "| id| id|\n",
      "+---+---+\n",
      "|  1|  1|\n",
      "|  1|  1|\n",
      "|  1|  1|\n",
      "|  1|  1|\n",
      "|  1|  1|\n",
      "|  1|  1|\n",
      "+---+---+\n",
      "\n"
     ]
    }
   ],
   "source": [
    "from pyspark.sql import SparkSession\n",
    "from pyspark.sql.types import StructType, StructField, StringType, IntegerType, ArrayType\n",
    "from pyspark.sql.functions import *\n",
    "\n",
    "spark = SparkSession.builder.appName(\"JoinExamples\").getOrCreate()\n",
    "\n",
    "data = [\n",
    "    (1,),\n",
    "    (1,),\n",
    "    (1,)\n",
    "]\n",
    "\n",
    "data2 = [\n",
    "    (1,),\n",
    "    (1,)\n",
    "]\n",
    "\n",
    "df1 = spark.createDataFrame(data,[\"id\"])\n",
    "df1.show()\n",
    "\n",
    "df2 = spark.createDataFrame(data2,[\"id\"])\n",
    "df2.show()\n",
    "\n",
    "df3 = df1.join(df2, df1.id == df2.id, 'outer')\n",
    "df3.show()\n"
   ]
  }
 ],
 "metadata": {
  "kernelspec": {
   "display_name": "Python 3",
   "language": "python",
   "name": "python3"
  },
  "language_info": {
   "codemirror_mode": {
    "name": "ipython",
    "version": 3
   },
   "file_extension": ".py",
   "mimetype": "text/x-python",
   "name": "python",
   "nbconvert_exporter": "python",
   "pygments_lexer": "ipython3",
   "version": "3.12.1"
  }
 },
 "nbformat": 4,
 "nbformat_minor": 2
}
